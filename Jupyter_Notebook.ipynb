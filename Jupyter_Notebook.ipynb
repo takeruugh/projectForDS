{
 "cells": [
  {
   "cell_type": "markdown",
   "metadata": {},
   "source": [
    "<center>\n",
    "    <img src=\"https://cf-courses-data.s3.us.cloud-object-storage.appdomain.cloud/IBMDeveloperSkillsNetwork-DS0105EN-SkillsNetwork/labs/Module2/images/SN_web_lightmode.png\" width=\"300\" alt=\"cognitiveclass.ai logo\">\n",
    "</center>\n"
   ]
  },
  {
   "cell_type": "markdown",
   "metadata": {},
   "source": [
    "#### Add your code below following the instructions given in the course\n"
   ]
  },
  {
   "cell_type": "markdown",
   "metadata": {},
   "source": [
    "# Data science"
   ]
  },
  {
   "cell_type": "markdown",
   "metadata": {},
   "source": [
    "## Introduction"
   ]
  },
  {
   "cell_type": "markdown",
   "metadata": {},
   "source": [
    "### Data science languages:\n",
    "#### 1. Python\n",
    "#### 2. R\n",
    "#### 3. SQL\n",
    "#### 4. Scala\n",
    "#### 5. Java\n",
    "#### 6. C++"
   ]
  },
  {
   "cell_type": "markdown",
   "metadata": {},
   "source": [
    "### Data science libraries:\n",
    "#### 1. TenserFLow\n",
    "#### 2. Numpy\n",
    "#### 3. Pandas\n",
    "#### 4. Seaborn\n",
    "#### 5. Matplotlib\n",
    "#### 6. Statsmodels"
   ]
  },
  {
   "cell_type": "markdown",
   "metadata": {},
   "source": [
    "### Data science tools:\n",
    "| N | Tools |\n",
    "|---|-------|\n",
    "| 1. | RStudio |\n",
    "| 2. | Tableau |\n",
    "| 3. | PostgreSQL |\n",
    "| 4. | ApacheSpark |\n",
    "| 5. | Power BI |\n",
    "| 6. | MongoDB |"
   ]
  },
  {
   "cell_type": "markdown",
   "metadata": {},
   "source": [
    "### Arithmetic Expressions:\n",
    "#### addition: 10 + 5\n",
    "#### substraction: 10 - 5\n",
    "#### multiplication: 10 * 5\n",
    "#### division: 10 / 5"
   ]
  },
  {
   "cell_type": "code",
   "execution_count": 3,
   "metadata": {},
   "outputs": [
    {
     "name": "stdout",
     "output_type": "stream",
     "text": [
      "50\n",
      "15\n"
     ]
    }
   ],
   "source": [
    "# multiply and addition\n",
    "a = 10\n",
    "b = 5\n",
    "mult = a * b\n",
    "add = a + b\n",
    "print(mult)\n",
    "print(add)"
   ]
  },
  {
   "cell_type": "code",
   "execution_count": 5,
   "metadata": {},
   "outputs": [
    {
     "name": "stdout",
     "output_type": "stream",
     "text": [
      "60\n",
      "1.0\n"
     ]
    }
   ],
   "source": [
    "# minutes to hours\n",
    "m = float(input())\n",
    "h = m / 60\n",
    "print(h)"
   ]
  },
  {
   "cell_type": "markdown",
   "metadata": {},
   "source": [
    "## Objectives"
   ]
  },
  {
   "cell_type": "markdown",
   "metadata": {},
   "source": [
    "#### 1. Grasp the core principles of data science.\n",
    "#### 2. Explore different programming languages and libraries that are commonly used in the field of data science.\n",
    "#### 3. Apply arithmetic operations and perform data type conversions in Python."
   ]
  },
  {
   "cell_type": "markdown",
   "metadata": {},
   "source": [
    "### Author: Zhakyp Ulpan"
   ]
  },
  {
   "cell_type": "code",
   "execution_count": null,
   "metadata": {},
   "outputs": [],
   "source": []
  }
 ],
 "metadata": {
  "kernelspec": {
   "display_name": "Python 3 (ipykernel)",
   "language": "python",
   "name": "python3"
  },
  "language_info": {
   "codemirror_mode": {
    "name": "ipython",
    "version": 3
   },
   "file_extension": ".py",
   "mimetype": "text/x-python",
   "name": "python",
   "nbconvert_exporter": "python",
   "pygments_lexer": "ipython3",
   "version": "3.11.4"
  }
 },
 "nbformat": 4,
 "nbformat_minor": 4
}
